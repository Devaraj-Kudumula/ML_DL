{
 "cells": [
  {
   "cell_type": "code",
   "execution_count": 1,
   "id": "45768a5d",
   "metadata": {},
   "outputs": [],
   "source": [
    "import numpy as np\n",
    "import pandas as pd\n",
    "import tensorflow as tf\n",
    "import matplotlib.pyplot as plt\n",
    "%matplotlib inline\n",
    "from tensorflow.keras.datasets import mnist\n",
    "from tensorflow.keras.models import Sequential\n",
    "from tensorflow.keras.optimizers import Adam\n",
    "from tensorflow.keras.layers import BatchNormalization\n",
    "from tensorflow.keras import layers\n",
    "from tensorflow.keras.models import Sequential\n",
    "from tensorflow.keras.layers import Dense, Activation, Dropout, Flatten, Conv2D, MaxPooling2D,ZeroPadding2D\n",
    "from keras.utils import np_utils\n",
    "np.random.seed(1000)"
   ]
  },
  {
   "cell_type": "code",
   "execution_count": 2,
   "id": "7878863c",
   "metadata": {},
   "outputs": [],
   "source": [
    "(X_train, y_train), (X_test, y_test) = mnist.load_data() #Loading Data"
   ]
  },
  {
   "cell_type": "code",
   "execution_count": 4,
   "id": "d214abf1",
   "metadata": {},
   "outputs": [],
   "source": [
    "X_train = X_train.reshape(X_train.shape[0], 28, 28, 1)  # resizing\n",
    "X_test = X_test.reshape(X_test.shape[0], 28, 28, 1)\n",
    "\n",
    "X_train = X_train.astype('float32')\n",
    "X_test = X_test.astype('float32')\n",
    "\n",
    "X_train/=255\n",
    "X_test/=255"
   ]
  },
  {
   "cell_type": "code",
   "execution_count": 18,
   "id": "7c9282bb",
   "metadata": {},
   "outputs": [
    {
     "name": "stdout",
     "output_type": "stream",
     "text": [
      "((60000, 28, 28, 1), (60000,))\n",
      "((10000, 28, 28, 1), (10000,))\n"
     ]
    }
   ],
   "source": [
    "#Dimension of the MNIST dataset\n",
    "print((X_train.shape,y_train.shape))\n",
    "print((X_test.shape,y_test.shape))"
   ]
  },
  {
   "cell_type": "code",
   "execution_count": 17,
   "id": "b0af6d9d",
   "metadata": {},
   "outputs": [],
   "source": [
    "number_of_classes = 10 #no.of classes in the dataset\n",
    "\n",
    "Y_train = np_utils.to_categorical(y_train, number_of_classes) #One Hot Encoding Labels from Train and Test Dataset\n",
    "Y_test = np_utils.to_categorical(y_test, number_of_classes)"
   ]
  },
  {
   "cell_type": "code",
   "execution_count": 26,
   "id": "ddc66dd1",
   "metadata": {},
   "outputs": [],
   "source": [
    "#Alexnet Architecture\n",
    "def AlexnetModel():\n",
    "    alex_model = Sequential()\n",
    "    alex_model.add(layers.experimental.preprocessing.Resizing(224, 224, interpolation=\"bilinear\",input_shape=X_train.shape[1:]))\n",
    "    alex_model.add(Conv2D(filters=96, kernel_size=(11,11), strides=(4,4), activation='relu'))\n",
    "    alex_model.add(BatchNormalization())\n",
    "    alex_model.add(MaxPooling2D(pool_size=(3,3), strides=(2,2)))\n",
    "    alex_model.add(Conv2D(filters=256, kernel_size=(5,5), strides=(1,1), activation='relu', padding=\"same\"))\n",
    "    alex_model.add(BatchNormalization())\n",
    "    alex_model.add(MaxPooling2D(pool_size=(3,3), strides=(2,2)))\n",
    "    alex_model.add(Conv2D(filters=384, kernel_size=(3,3), strides=(1,1), activation='relu', padding=\"same\"))\n",
    "    alex_model.add(BatchNormalization())\n",
    "    alex_model.add(Conv2D(filters=384, kernel_size=(3,3), strides=(1,1), activation='relu', padding=\"same\"))\n",
    "    alex_model.add(BatchNormalization())\n",
    "    alex_model.add(Conv2D(filters=256, kernel_size=(3,3), strides=(1,1), activation='relu', padding=\"same\"))\n",
    "    alex_model.add(BatchNormalization())\n",
    "    alex_model.add(MaxPooling2D(pool_size=(3,3), strides=(2,2)))\n",
    "    alex_model.add(Flatten())\n",
    "    alex_model.add(Dense(4096, activation='relu'))\n",
    "    alex_model.add(Dropout(0.5))\n",
    "    alex_model.add(Dense(4096, activation='relu'))\n",
    "    alex_model.add(Dropout(0.5))\n",
    "    alex_model.add(Dense(10, activation='softmax'))\n",
    "    return alex_model"
   ]
  },
  {
   "cell_type": "code",
   "execution_count": 27,
   "id": "14978ea8",
   "metadata": {},
   "outputs": [],
   "source": [
    "model = AlexnetModel()"
   ]
  },
  {
   "cell_type": "code",
   "execution_count": 28,
   "id": "5692ff36",
   "metadata": {},
   "outputs": [],
   "source": [
    "model.compile(loss='categorical_crossentropy', optimizer=Adam(learning_rate=3e-4), metrics=['accuracy'])"
   ]
  },
  {
   "cell_type": "code",
   "execution_count": 29,
   "id": "9fa30427",
   "metadata": {
    "scrolled": false
   },
   "outputs": [
    {
     "name": "stdout",
     "output_type": "stream",
     "text": [
      "Model: \"sequential_1\"\n",
      "_________________________________________________________________\n",
      " Layer (type)                Output Shape              Param #   \n",
      "=================================================================\n",
      " resizing_1 (Resizing)       (None, 224, 224, 1)       0         \n",
      "                                                                 \n",
      " conv2d_5 (Conv2D)           (None, 54, 54, 96)        11712     \n",
      "                                                                 \n",
      " batch_normalization_5 (Batc  (None, 54, 54, 96)       384       \n",
      " hNormalization)                                                 \n",
      "                                                                 \n",
      " max_pooling2d_3 (MaxPooling  (None, 26, 26, 96)       0         \n",
      " 2D)                                                             \n",
      "                                                                 \n",
      " conv2d_6 (Conv2D)           (None, 26, 26, 256)       614656    \n",
      "                                                                 \n",
      " batch_normalization_6 (Batc  (None, 26, 26, 256)      1024      \n",
      " hNormalization)                                                 \n",
      "                                                                 \n",
      " max_pooling2d_4 (MaxPooling  (None, 12, 12, 256)      0         \n",
      " 2D)                                                             \n",
      "                                                                 \n",
      " conv2d_7 (Conv2D)           (None, 12, 12, 384)       885120    \n",
      "                                                                 \n",
      " batch_normalization_7 (Batc  (None, 12, 12, 384)      1536      \n",
      " hNormalization)                                                 \n",
      "                                                                 \n",
      " conv2d_8 (Conv2D)           (None, 12, 12, 384)       1327488   \n",
      "                                                                 \n",
      " batch_normalization_8 (Batc  (None, 12, 12, 384)      1536      \n",
      " hNormalization)                                                 \n",
      "                                                                 \n",
      " conv2d_9 (Conv2D)           (None, 12, 12, 256)       884992    \n",
      "                                                                 \n",
      " batch_normalization_9 (Batc  (None, 12, 12, 256)      1024      \n",
      " hNormalization)                                                 \n",
      "                                                                 \n",
      " max_pooling2d_5 (MaxPooling  (None, 5, 5, 256)        0         \n",
      " 2D)                                                             \n",
      "                                                                 \n",
      " flatten_1 (Flatten)         (None, 6400)              0         \n",
      "                                                                 \n",
      " dense_3 (Dense)             (None, 4096)              26218496  \n",
      "                                                                 \n",
      " dropout_2 (Dropout)         (None, 4096)              0         \n",
      "                                                                 \n",
      " dense_4 (Dense)             (None, 4096)              16781312  \n",
      "                                                                 \n",
      " dropout_3 (Dropout)         (None, 4096)              0         \n",
      "                                                                 \n",
      " dense_5 (Dense)             (None, 10)                40970     \n",
      "                                                                 \n",
      "=================================================================\n",
      "Total params: 46,770,250\n",
      "Trainable params: 46,767,498\n",
      "Non-trainable params: 2,752\n",
      "_________________________________________________________________\n"
     ]
    }
   ],
   "source": [
    "model.summary()"
   ]
  },
  {
   "cell_type": "code",
   "execution_count": 27,
   "id": "31a5f806",
   "metadata": {},
   "outputs": [
    {
     "name": "stdout",
     "output_type": "stream",
     "text": [
      "Epoch 1/10\n",
      "235/235 [==============================] - 1853s 8s/step - loss: 0.5563 - accuracy: 0.9062 - val_loss: 44.5815 - val_accuracy: 0.1135\n",
      "Epoch 2/10\n",
      "235/235 [==============================] - 1943s 8s/step - loss: 0.0650 - accuracy: 0.9812 - val_loss: 4.3841 - val_accuracy: 0.3721\n",
      "Epoch 3/10\n",
      "235/235 [==============================] - 1980s 8s/step - loss: 0.0495 - accuracy: 0.9857 - val_loss: 0.0550 - val_accuracy: 0.9840\n",
      "Epoch 4/10\n",
      "235/235 [==============================] - 2147s 9s/step - loss: 0.0413 - accuracy: 0.9883 - val_loss: 0.0274 - val_accuracy: 0.9920\n",
      "Epoch 5/10\n",
      "235/235 [==============================] - 2122s 9s/step - loss: 0.0334 - accuracy: 0.9905 - val_loss: 0.0442 - val_accuracy: 0.9863\n",
      "Epoch 6/10\n",
      "235/235 [==============================] - 2069s 9s/step - loss: 0.0291 - accuracy: 0.9919 - val_loss: 0.0305 - val_accuracy: 0.9903\n",
      "Epoch 7/10\n",
      "235/235 [==============================] - 1902s 8s/step - loss: 0.0245 - accuracy: 0.9924 - val_loss: 0.0271 - val_accuracy: 0.9920\n",
      "Epoch 8/10\n",
      "235/235 [==============================] - 2029s 9s/step - loss: 0.0229 - accuracy: 0.9933 - val_loss: 0.0238 - val_accuracy: 0.9937\n",
      "Epoch 9/10\n",
      "235/235 [==============================] - 1841s 8s/step - loss: 0.0200 - accuracy: 0.9944 - val_loss: 0.0280 - val_accuracy: 0.9908\n",
      "Epoch 10/10\n",
      "235/235 [==============================] - 1846s 8s/step - loss: 0.0199 - accuracy: 0.9943 - val_loss: 0.0342 - val_accuracy: 0.9901\n"
     ]
    }
   ],
   "source": [
    "histt = model.fit(X_train, Y_train,batch_size=256,epochs=10,validation_data=(X_test, Y_test),shuffle=True)"
   ]
  },
  {
   "cell_type": "code",
   "execution_count": 30,
   "id": "46b5f61b",
   "metadata": {},
   "outputs": [],
   "source": [
    "y_pred=model.predict(X_test)\n",
    "y_true=np.argmax(y_pred,axis=1)"
   ]
  },
  {
   "cell_type": "code",
   "execution_count": 31,
   "id": "935939be",
   "metadata": {},
   "outputs": [],
   "source": [
    "y_predicted_label=[np.argmax(i) for i in y_pred]"
   ]
  },
  {
   "cell_type": "code",
   "execution_count": 32,
   "id": "6c3e3d39",
   "metadata": {},
   "outputs": [],
   "source": [
    "from sklearn import metrics as ms"
   ]
  },
  {
   "cell_type": "code",
   "execution_count": 33,
   "id": "05e4cb35",
   "metadata": {},
   "outputs": [
    {
     "name": "stdout",
     "output_type": "stream",
     "text": [
      "Accuracy: 0.9901\n"
     ]
    }
   ],
   "source": [
    "print (\"Accuracy:\", ms.accuracy_score(y_test,y_true))"
   ]
  },
  {
   "cell_type": "code",
   "execution_count": 35,
   "id": "c4b603a5",
   "metadata": {},
   "outputs": [],
   "source": [
    "cm=tf.math.confusion_matrix(labels=y_predicted_label,predictions=y_test)"
   ]
  },
  {
   "cell_type": "code",
   "execution_count": 36,
   "id": "0512b352",
   "metadata": {},
   "outputs": [
    {
     "data": {
      "text/plain": [
       "Text(69.0, 0.5, 'Ture')"
      ]
     },
     "execution_count": 36,
     "metadata": {},
     "output_type": "execute_result"
    },
    {
     "data": {
      "image/png": "[encoded data removed]",
      "text/plain": [
       "<Figure size 720x504 with 2 Axes>"
      ]
     },
     "metadata": {
      "needs_background": "light"
     },
     "output_type": "display_data"
    }
   ],
   "source": [
    "import seaborn as sn\n",
    "plt.figure(figsize=(10,7))\n",
    "sn.heatmap(cm,annot=True,fmt='d',cmap='Blues_r')\n",
    "plt.xlabel('predicted')\n",
    "plt.ylabel('Ture')\n",
    "plt.title('MNIST with Alexnet')"
   ]
  },
  {
   "cell_type": "code",
   "execution_count": 37,
   "id": "700e1b6a",
   "metadata": {},
   "outputs": [
    {
     "name": "stdout",
     "output_type": "stream",
     "text": [
      "1875/1875 [==============================] - 380s 202ms/step - loss: 0.0243 - accuracy: 0.9929\n",
      "313/313 [==============================] - 63s 201ms/step - loss: 0.0342 - accuracy: 0.9901\n",
      "Train: [0.024327853694558144, 0.992900013923645] Test: [0.034212276339530945, 0.9901000261306763]\n"
     ]
    }
   ],
   "source": [
    "# evaluate the model\n",
    "train_acc = model.evaluate(X_train, Y_train)\n",
    "test_acc = model.evaluate(X_test, Y_test)\n",
    "print('Train:',train_acc,'Test:', test_acc)\n"
   ]
  },
  {
   "cell_type": "code",
   "execution_count": 38,
   "id": "7b85b19b",
   "metadata": {},
   "outputs": [],
   "source": [
    "import matplotlib.pyplot as pyplot"
   ]
  },
  {
   "cell_type": "code",
   "execution_count": 39,
   "id": "ccd36907",
   "metadata": {},
   "outputs": [
    {
     "data": {
      "image/png": "[encoded data removed]",
      "text/plain": [
       "<Figure size 432x288 with 2 Axes>"
      ]
     },
     "metadata": {
      "needs_background": "light"
     },
     "output_type": "display_data"
    }
   ],
   "source": [
    "# plot loss during training\n",
    "pyplot.subplot(2,1,1)\n",
    "pyplot.title('Loss')\n",
    "pyplot.plot(histt.history['loss'], label='train')\n",
    "pyplot.plot(histt.history['val_loss'], label='test')\n",
    "pyplot.legend()\n",
    "# plot accuracy during training\n",
    "pyplot.subplot(2,1,2)\n",
    "pyplot.title('Accuracy')\n",
    "pyplot.plot(histt.history['accuracy'], label='train')\n",
    "pyplot.plot(histt.history['val_accuracy'], label='test')\n",
    "pyplot.legend()\n",
    "pyplot.show()"
   ]
  },
  {
   "cell_type": "code",
   "execution_count": 40,
   "id": "f44b2de1",
   "metadata": {},
   "outputs": [
    {
     "name": "stdout",
     "output_type": "stream",
     "text": [
      "(10000,) (10000,)\n",
      "[7 2 1 0 4] [7 2 1 0 4]\n"
     ]
    }
   ],
   "source": [
    "from sklearn.metrics import classification_report\n",
    "\n",
    "# predict \n",
    "pred = model.predict(X_test, batch_size = 32)\n",
    "pred = np.argmax(pred, axis=1)\n",
    "# label\n",
    "y_test = np.argmax(Y_test, axis=1)\n",
    "\n",
    "print(y_test.shape, pred.shape)\n",
    "print(y_test[:5], pred[:5])"
   ]
  },
  {
   "cell_type": "code",
   "execution_count": 41,
   "id": "c1c1973c",
   "metadata": {},
   "outputs": [
    {
     "name": "stdout",
     "output_type": "stream",
     "text": [
      "              precision    recall  f1-score   support\n",
      "\n",
      "           0       0.98      1.00      0.99       980\n",
      "           1       1.00      0.99      0.99      1135\n",
      "           2       1.00      0.99      0.99      1032\n",
      "           3       1.00      0.99      0.99      1010\n",
      "           4       0.99      1.00      0.99       982\n",
      "           5       0.98      0.99      0.99       892\n",
      "           6       0.98      0.99      0.99       958\n",
      "           7       0.99      1.00      0.99      1028\n",
      "           8       0.99      0.98      0.98       974\n",
      "           9       1.00      0.98      0.99      1009\n",
      "\n",
      "    accuracy                           0.99     10000\n",
      "   macro avg       0.99      0.99      0.99     10000\n",
      "weighted avg       0.99      0.99      0.99     10000\n",
      "\n"
     ]
    }
   ],
   "source": [
    "print(classification_report(y_test, pred))"
   ]
  },
  {
   "cell_type": "code",
   "execution_count": null,
   "id": "18e9b221",
   "metadata": {},
   "outputs": [],
   "source": []
  }
 ],
 "metadata": {
  "kernelspec": {
   "display_name": "Python 3",
   "language": "python",
   "name": "python3"
  },
  "language_info": {
   "codemirror_mode": {
    "name": "ipython",
    "version": 3
   },
   "file_extension": ".py",
   "mimetype": "text/x-python",
   "name": "python",
   "nbconvert_exporter": "python",
   "pygments_lexer": "ipython3",
   "version": "3.9.5"
  }
 },
 "nbformat": 4,
 "nbformat_minor": 5
}
