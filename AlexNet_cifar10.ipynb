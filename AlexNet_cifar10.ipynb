{
 "cells": [
  {
   "cell_type": "code",
   "execution_count": 3,
   "id": "d1570a75",
   "metadata": {},
   "outputs": [],
   "source": [
    "import numpy as np\n",
    "import pandas as pd\n",
    "import tensorflow as tf\n",
    "from keras.utils import np_utils\n",
    "from sklearn import metrics as ms\n",
    "import seaborn as sn\n",
    "import matplotlib.pyplot as plt\n",
    "%matplotlib inline\n",
    "from tensorflow.keras.datasets import cifar10\n",
    "from tensorflow.keras.models import Sequential\n",
    "from tensorflow.keras.layers import Dense, Dropout, Activation, Flatten\n",
    "from tensorflow.keras.optimizers import Adam, SGD\n",
    "from tensorflow.keras.layers import BatchNormalization\n",
    "from tensorflow.keras.layers import Conv2D, MaxPooling2D\n",
    "from tensorflow.keras import layers\n",
    "np.random.seed(1000)"
   ]
  },
  {
   "cell_type": "code",
   "execution_count": 4,
   "id": "7a557891",
   "metadata": {},
   "outputs": [],
   "source": [
    "(X_train, y_train), (X_test, y_test) =cifar10.load_data() #Loading Data"
   ]
  },
  {
   "cell_type": "code",
   "execution_count": 5,
   "id": "07777275",
   "metadata": {},
   "outputs": [],
   "source": [
    "X_train = X_train.reshape(X_train.shape[0], 32, 32, 3) # resizing\n",
    "X_test = X_test.reshape(X_test.shape[0], 32, 32, 3)\n",
    "\n",
    "X_train = X_train.astype('float32')\n",
    "X_test = X_test.astype('float32')\n",
    "\n",
    "X_train/=255\n",
    "X_test/=255"
   ]
  },
  {
   "cell_type": "code",
   "execution_count": 6,
   "id": "3c708084",
   "metadata": {},
   "outputs": [
    {
     "name": "stdout",
     "output_type": "stream",
     "text": [
      "((50000, 32, 32, 3), (50000, 1))\n",
      "((10000, 32, 32, 3), (10000, 1))\n"
     ]
    }
   ],
   "source": [
    "#Dimension of the CIFAR10 dataset\n",
    "print((X_train.shape,y_train.shape))\n",
    "print((X_test.shape,y_test.shape))"
   ]
  },
  {
   "cell_type": "code",
   "execution_count": 7,
   "id": "36d80871",
   "metadata": {},
   "outputs": [
    {
     "data": {
      "text/plain": [
       "(array([6], dtype=uint8),\n",
       " array([0., 0., 0., 0., 0., 0., 1., 0., 0., 0.], dtype=float32))"
      ]
     },
     "execution_count": 7,
     "metadata": {},
     "output_type": "execute_result"
    }
   ],
   "source": [
    "number_of_classes = 10 #no.of classes in the dataset\n",
    "\n",
    "Y_train = np_utils.to_categorical(y_train, number_of_classes) #One Hot Encoding Labels from Train and Test Dataset\n",
    "Y_test = np_utils.to_categorical(y_test, number_of_classes)\n",
    "\n",
    "y_train[0], Y_train[0]"
   ]
  },
  {
   "cell_type": "code",
   "execution_count": 8,
   "id": "a386d42b",
   "metadata": {},
   "outputs": [],
   "source": [
    "#Alexnet Architecture\n",
    "def AlexnetModel():\n",
    "    alex_model = Sequential()\n",
    "    alex_model.add(layers.experimental.preprocessing.Resizing(224, 224, interpolation=\"bilinear\",input_shape=X_train.shape[1:]))\n",
    "    alex_model.add(Conv2D(filters=96, kernel_size=(11,11), strides=(4,4), activation='relu',padding='same'))\n",
    "    alex_model.add(BatchNormalization())\n",
    "    alex_model.add(MaxPooling2D(pool_size=(3,3), strides=(2,2)))\n",
    "    alex_model.add(Conv2D(filters=256, kernel_size=(5,5), strides=(1,1), activation='relu', padding=\"same\"))\n",
    "    alex_model.add(BatchNormalization())\n",
    "    alex_model.add(MaxPooling2D(pool_size=(3,3), strides=(2,2)))\n",
    "    alex_model.add(Conv2D(filters=384, kernel_size=(3,3), strides=(1,1), activation='relu', padding=\"same\"))\n",
    "    alex_model.add(BatchNormalization())\n",
    "    alex_model.add(Conv2D(filters=384, kernel_size=(3,3), strides=(1,1), activation='relu', padding=\"same\"))\n",
    "    alex_model.add(BatchNormalization())\n",
    "    alex_model.add(Conv2D(filters=256, kernel_size=(3,3), strides=(1,1), activation='relu', padding=\"same\"))\n",
    "    alex_model.add(BatchNormalization())\n",
    "    alex_model.add(MaxPooling2D(pool_size=(3,3), strides=(2,2)))\n",
    "    alex_model.add(Flatten())\n",
    "    alex_model.add(Dense(4096, activation='relu'))\n",
    "    alex_model.add(Dropout(0.5))\n",
    "    alex_model.add(Dense(4096, activation='relu'))\n",
    "    alex_model.add(Dropout(0.5))\n",
    "    alex_model.add(Dense(10, activation='softmax'))\n",
    "    return alex_model"
   ]
  },
  {
   "cell_type": "code",
   "execution_count": 9,
   "id": "132bb5bc",
   "metadata": {},
   "outputs": [],
   "source": [
    "model = AlexnetModel()"
   ]
  },
  {
   "cell_type": "code",
   "execution_count": 10,
   "id": "ae4a90ef",
   "metadata": {},
   "outputs": [],
   "source": [
    "model.compile(loss='categorical_crossentropy', optimizer=SGD(learning_rate=0.001), metrics=['accuracy'])"
   ]
  },
  {
   "cell_type": "code",
   "execution_count": 11,
   "id": "c0cc580b",
   "metadata": {},
   "outputs": [
    {
     "name": "stdout",
     "output_type": "stream",
     "text": [
      "Model: \"sequential\"\n",
      "_________________________________________________________________\n",
      " Layer (type)                Output Shape              Param #   \n",
      "=================================================================\n",
      " resizing (Resizing)         (None, 224, 224, 3)       0         \n",
      "                                                                 \n",
      " conv2d (Conv2D)             (None, 56, 56, 96)        34944     \n",
      "                                                                 \n",
      " batch_normalization (BatchN  (None, 56, 56, 96)       384       \n",
      " ormalization)                                                   \n",
      "                                                                 \n",
      " max_pooling2d (MaxPooling2D  (None, 27, 27, 96)       0         \n",
      " )                                                               \n",
      "                                                                 \n",
      " conv2d_1 (Conv2D)           (None, 27, 27, 256)       614656    \n",
      "                                                                 \n",
      " batch_normalization_1 (Batc  (None, 27, 27, 256)      1024      \n",
      " hNormalization)                                                 \n",
      "                                                                 \n",
      " max_pooling2d_1 (MaxPooling  (None, 13, 13, 256)      0         \n",
      " 2D)                                                             \n",
      "                                                                 \n",
      " conv2d_2 (Conv2D)           (None, 13, 13, 384)       885120    \n",
      "                                                                 \n",
      " batch_normalization_2 (Batc  (None, 13, 13, 384)      1536      \n",
      " hNormalization)                                                 \n",
      "                                                                 \n",
      " conv2d_3 (Conv2D)           (None, 13, 13, 384)       1327488   \n",
      "                                                                 \n",
      " batch_normalization_3 (Batc  (None, 13, 13, 384)      1536      \n",
      " hNormalization)                                                 \n",
      "                                                                 \n",
      " conv2d_4 (Conv2D)           (None, 13, 13, 256)       884992    \n",
      "                                                                 \n",
      " batch_normalization_4 (Batc  (None, 13, 13, 256)      1024      \n",
      " hNormalization)                                                 \n",
      "                                                                 \n",
      " max_pooling2d_2 (MaxPooling  (None, 6, 6, 256)        0         \n",
      " 2D)                                                             \n",
      "                                                                 \n",
      " flatten (Flatten)           (None, 9216)              0         \n",
      "                                                                 \n",
      " dense (Dense)               (None, 4096)              37752832  \n",
      "                                                                 \n",
      " dropout (Dropout)           (None, 4096)              0         \n",
      "                                                                 \n",
      " dense_1 (Dense)             (None, 4096)              16781312  \n",
      "                                                                 \n",
      " dropout_1 (Dropout)         (None, 4096)              0         \n",
      "                                                                 \n",
      " dense_2 (Dense)             (None, 10)                40970     \n",
      "                                                                 \n",
      "=================================================================\n",
      "Total params: 58,327,818\n",
      "Trainable params: 58,325,066\n",
      "Non-trainable params: 2,752\n",
      "_________________________________________________________________\n"
     ]
    }
   ],
   "source": [
    "model.summary()"
   ]
  },
  {
   "cell_type": "code",
   "execution_count": 10,
   "id": "292fee4f",
   "metadata": {},
   "outputs": [
    {
     "name": "stdout",
     "output_type": "stream",
     "text": [
      "Epoch 1/10\n",
      "391/391 [==============================] - 1861s 5s/step - loss: 2.5478 - accuracy: 0.2687 - val_loss: 1.9450 - val_accuracy: 0.2964\n",
      "Epoch 2/10\n",
      "391/391 [==============================] - 1711s 4s/step - loss: 1.8538 - accuracy: 0.3742 - val_loss: 1.6582 - val_accuracy: 0.3999\n",
      "Epoch 3/10\n",
      "391/391 [==============================] - 1770s 5s/step - loss: 1.6522 - accuracy: 0.4212 - val_loss: 1.4757 - val_accuracy: 0.4632\n",
      "Epoch 4/10\n",
      "391/391 [==============================] - 1868s 5s/step - loss: 1.5254 - accuracy: 0.4606 - val_loss: 2.0454 - val_accuracy: 0.3260\n",
      "Epoch 5/10\n",
      "391/391 [==============================] - 1705s 4s/step - loss: 1.4285 - accuracy: 0.4936 - val_loss: 1.3728 - val_accuracy: 0.5062\n",
      "Epoch 6/10\n",
      "391/391 [==============================] - 1649s 4s/step - loss: 1.3455 - accuracy: 0.5212 - val_loss: 1.3402 - val_accuracy: 0.5236\n",
      "Epoch 7/10\n",
      "391/391 [==============================] - 1718s 4s/step - loss: 1.2831 - accuracy: 0.5428 - val_loss: 1.2252 - val_accuracy: 0.5602\n",
      "Epoch 8/10\n",
      "391/391 [==============================] - 1722s 4s/step - loss: 1.2330 - accuracy: 0.5617 - val_loss: 1.1209 - val_accuracy: 0.6018\n",
      "Epoch 9/10\n",
      "391/391 [==============================] - 1619s 4s/step - loss: 1.1798 - accuracy: 0.5816 - val_loss: 1.5102 - val_accuracy: 0.4652\n",
      "Epoch 10/10\n",
      "391/391 [==============================] - 1799s 5s/step - loss: 1.1351 - accuracy: 0.5981 - val_loss: 1.0782 - val_accuracy: 0.6196\n"
     ]
    }
   ],
   "source": [
    "history = model.fit(X_train, Y_train,batch_size=128,epochs=10,validation_data=(X_test, Y_test),shuffle=True)"
   ]
  },
  {
   "cell_type": "code",
   "execution_count": 12,
   "id": "e4e27cd1",
   "metadata": {},
   "outputs": [],
   "source": [
    "# Prediction\n",
    "y_pred=model.predict(X_test)\n",
    "y_true=np.argmax(y_pred,axis=1)"
   ]
  },
  {
   "cell_type": "code",
   "execution_count": 13,
   "id": "10db0bed",
   "metadata": {},
   "outputs": [],
   "source": [
    "y_predicted_label=[np.argmax(i) for i in y_pred]"
   ]
  },
  {
   "cell_type": "code",
   "execution_count": 14,
   "id": "dd1bc087",
   "metadata": {},
   "outputs": [
    {
     "name": "stdout",
     "output_type": "stream",
     "text": [
      "Accuracy: 0.6196\n"
     ]
    }
   ],
   "source": [
    "print (\"Accuracy:\", ms.accuracy_score(y_test,y_true))"
   ]
  },
  {
   "cell_type": "code",
   "execution_count": 15,
   "id": "0e891513",
   "metadata": {},
   "outputs": [],
   "source": [
    "cm=tf.math.confusion_matrix(labels=y_predicted_label,predictions=y_test)"
   ]
  },
  {
   "cell_type": "code",
   "execution_count": 18,
   "id": "f845bd77",
   "metadata": {},
   "outputs": [
    {
     "data": {
      "text/plain": [
       "Text(69.0, 0.5, 'Ture')"
      ]
     },
     "execution_count": 18,
     "metadata": {},
     "output_type": "execute_result"
    },
    {
     "data": {
      "image/png": "[encoded data removed]",
      "text/plain": [
       "<Figure size 720x504 with 2 Axes>"
      ]
     },
     "metadata": {
      "needs_background": "light"
     },
     "output_type": "display_data"
    }
   ],
   "source": [
    "plt.figure(figsize=(10,7))\n",
    "sn.heatmap(cm,annot=True,fmt='d',cmap='Blues_r')\n",
    "plt.xlabel('predicted')\n",
    "plt.ylabel('Ture')\n",
    "plt.title('CIFAR10 with Alexnet')"
   ]
  },
  {
   "cell_type": "code",
   "execution_count": 19,
   "id": "70221b05",
   "metadata": {},
   "outputs": [
    {
     "name": "stdout",
     "output_type": "stream",
     "text": [
      "1563/1563 [==============================] - 399s 255ms/step - loss: 1.0056 - accuracy: 0.6464\n",
      "313/313 [==============================] - 78s 248ms/step - loss: 1.0782 - accuracy: 0.6196\n",
      "Train: [1.0056226253509521, 0.6464200019836426] Test: [1.0782498121261597, 0.6195999979972839]\n"
     ]
    }
   ],
   "source": [
    "# evaluate the model\n",
    "train_acc = model.evaluate(X_train, Y_train)\n",
    "test_acc = model.evaluate(X_test, Y_test)\n",
    "print('Train:',train_acc,'Test:', test_acc)\n"
   ]
  },
  {
   "cell_type": "code",
   "execution_count": 21,
   "id": "ff7a1521",
   "metadata": {},
   "outputs": [
    {
     "data": {
      "image/png": "[encoded data removed]",
      "text/plain": [
       "<Figure size 432x288 with 2 Axes>"
      ]
     },
     "metadata": {
      "needs_background": "light"
     },
     "output_type": "display_data"
    }
   ],
   "source": [
    "# plot loss during training\n",
    "plt.subplot(2,1,1)\n",
    "plt.title('Loss')\n",
    "plt.plot(history.history['loss'], label='train')\n",
    "plt.plot(history.history['val_loss'], label='test')\n",
    "plt.legend()\n",
    "# plot accuracy during training\n",
    "plt.subplot(2,1,2)\n",
    "plt.title('Accuracy')\n",
    "plt.plot(history.history['accuracy'], label='train')\n",
    "plt.plot(history.history['val_accuracy'], label='test')\n",
    "plt.legend()\n",
    "plt.show()"
   ]
  },
  {
   "cell_type": "code",
   "execution_count": 22,
   "id": "87989edd",
   "metadata": {},
   "outputs": [
    {
     "name": "stdout",
     "output_type": "stream",
     "text": [
      "(10000,) (10000,)\n",
      "[3 8 8 0 6] [3 1 8 0 4]\n"
     ]
    }
   ],
   "source": [
    "from sklearn.metrics import classification_report\n",
    "\n",
    "# predict \n",
    "pred = model.predict(X_test, batch_size = 32)\n",
    "pred = np.argmax(pred, axis=1)\n",
    "# label\n",
    "y_test = np.argmax(Y_test, axis=1)\n",
    "\n",
    "print(y_test.shape, pred.shape)\n",
    "print(y_test[:5], pred[:5])"
   ]
  },
  {
   "cell_type": "code",
   "execution_count": 23,
   "id": "399751d4",
   "metadata": {},
   "outputs": [
    {
     "name": "stdout",
     "output_type": "stream",
     "text": [
      "              precision    recall  f1-score   support\n",
      "\n",
      "           0       0.75      0.61      0.67      1000\n",
      "           1       0.75      0.70      0.73      1000\n",
      "           2       0.66      0.39      0.49      1000\n",
      "           3       0.44      0.41      0.42      1000\n",
      "           4       0.52      0.59      0.55      1000\n",
      "           5       0.48      0.63      0.54      1000\n",
      "           6       0.84      0.56      0.67      1000\n",
      "           7       0.58      0.76      0.66      1000\n",
      "           8       0.76      0.74      0.75      1000\n",
      "           9       0.60      0.80      0.69      1000\n",
      "\n",
      "    accuracy                           0.62     10000\n",
      "   macro avg       0.64      0.62      0.62     10000\n",
      "weighted avg       0.64      0.62      0.62     10000\n",
      "\n"
     ]
    }
   ],
   "source": [
    "print(classification_report(y_test, pred))"
   ]
  },
  {
   "cell_type": "code",
   "execution_count": null,
   "id": "d48e5c6e",
   "metadata": {},
   "outputs": [],
   "source": []
  }
 ],
 "metadata": {
  "kernelspec": {
   "display_name": "Python 3",
   "language": "python",
   "name": "python3"
  },
  "language_info": {
   "codemirror_mode": {
    "name": "ipython",
    "version": 3
   },
   "file_extension": ".py",
   "mimetype": "text/x-python",
   "name": "python",
   "nbconvert_exporter": "python",
   "pygments_lexer": "ipython3",
   "version": "3.9.5"
  }
 },
 "nbformat": 4,
 "nbformat_minor": 5
}
